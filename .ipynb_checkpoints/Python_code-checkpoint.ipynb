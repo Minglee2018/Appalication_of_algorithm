{
 "cells": [
  {
   "cell_type": "markdown",
   "metadata": {},
   "source": [
    "### ĐỆ QUY"
   ]
  },
  {
   "cell_type": "markdown",
   "metadata": {},
   "source": [
    "đê quy tuyến tính \n",
    "\n",
    "đệ quy tương hỗ \n",
    "\n",
    "đệ quy phi tuyến \n",
    "\n",
    "đệ quy lồng"
   ]
  },
  {
   "cell_type": "code",
   "execution_count": 5,
   "metadata": {},
   "outputs": [],
   "source": [
    "import numpy as np "
   ]
  },
  {
   "cell_type": "code",
   "execution_count": 2,
   "metadata": {},
   "outputs": [
    {
     "name": "stdout",
     "output_type": "stream",
     "text": [
      "2 \n",
      "3 \n",
      "4\n"
     ]
    }
   ],
   "source": [
    "x = int(input())\n",
    "\n",
    "y = int(input())\n",
    "\n",
    "\n",
    "def Ackerman(x, y): \n",
    "    if y >=0 and x == 0: \n",
    "        return 1\n",
    "    if x == 1 and y == 0:\n",
    "        return 2 \n",
    "    if x > 1 and y == 0: \n",
    "        return x + 2 \n",
    "    return Ackerman(Ackerman(x-1, y), y -1 )\n",
    "\n",
    "print(Ackerman(x,y))"
   ]
  },
  {
   "cell_type": "markdown",
   "metadata": {},
   "source": [
    "### Hanoi Tower problem"
   ]
  },
  {
   "cell_type": "code",
   "execution_count": 2,
   "metadata": {},
   "outputs": [
    {
     "name": "stdout",
     "output_type": "stream",
     "text": [
      "3\n",
      "\t nguon -> dich \t\n",
      "\t nguon -> trung_gian \t\n",
      "\t dich -> trung_gian \t\n",
      "\t nguon -> dich \t\n",
      "\t trung_gian -> nguon \t\n",
      "\t trung_gian -> dich \t\n",
      "\t nguon -> dich \t\n"
     ]
    }
   ],
   "source": [
    "def move(n , c1, c2, c3): \n",
    "    if n == 1: \n",
    "        print( \"\\t {} -> {} \\t\".format(c1,c2))\n",
    "    else: \n",
    "        move(n-1, c1,c3,c2) \n",
    "        move(1,c1,c2,c3)\n",
    "        move(n-1,c3,c2,c1)\n",
    "        \n",
    "\n",
    "n = int(input())\n",
    "c1,c2,c3 = 'nguon','dich','trung_gian'\n",
    "\n",
    "move(n,c1,c2,c3)"
   ]
  },
  {
   "cell_type": "markdown",
   "metadata": {},
   "source": [
    "### Loang \n"
   ]
  },
  {
   "cell_type": "code",
   "execution_count": 111,
   "metadata": {},
   "outputs": [],
   "source": [
    "import numpy as np\n",
    "\n",
    "data = ([[1, 1, 0, 0, 0, 1],\n",
    "       [1, 0, 0, 0, 0, 0],\n",
    "       [1, 0, 0, 1, 1, 0],\n",
    "       [1, 0, 0, 1, 1, 0],\n",
    "       [0, 1, 1, 0, 0, 1],\n",
    "       [0, 0, 1, 0, 1, 1]])\n",
    "   \n",
    "output = ([[0, 0, 0, 0, 0, 0],\n",
    "           [0, 0, 0, 0, 0 ,0],\n",
    "           [0, 0, 0, 0, 0, 0],\n",
    "           [0, 0, 0, 0, 0, 0],\n",
    "           [0, 0, 0, 0, 0, 0],\n",
    "           [0, 0, 0, 0, 0, 0]])\n"
   ]
  },
  {
   "cell_type": "code",
   "execution_count": 112,
   "metadata": {},
   "outputs": [],
   "source": [
    "def check(i,j,n,m): \n",
    "    if (i>=0 and i < n) and (j>=0 and j < m): \n",
    "        return 1\n",
    "    else: \n",
    "        return 0 \n",
    "                \n",
    "def loang(i,j,n,m,cnt,data,output): \n",
    "    output[i][j] = cnt\n",
    "    if check(i+1,j,n,m)==1 and data[i][j]==data[i+1][j] and output[i+1][j]==0: \n",
    "        loang(i+1,j,n,m,cnt,data,output)\n",
    "    if check(i,j+1,n,m)==1 and data[i][j]==data[i][j+1] and output[i][j+1]==0: \n",
    "        loang(i,j+1,n,m,cnt,data,output)\n",
    "    if check(i-1,j,n,m)==1 and data[i][j]==data[i-1][j] and output[i-1][j]==0: \n",
    "        loang(i-1,j,n,m,cnt,data,output)\n",
    "    if check(i,j-1,n,m)==1 and data[i][j]==data[i][j-1] and output[i][j-1]==0: \n",
    "        loang(i,j-1,n,m,cnt,data,output)\n",
    "        \n",
    "def implement(data, output):\n",
    "    n ,m = np.array(data).shape\n",
    "    so_mien = 1\n",
    "    for i,sub_array in enumerate(output): \n",
    "        for j,value in enumerate(sub_array): \n",
    "            if value == 0:\n",
    "                loang(i,j,n,m,cnt,data,output)\n",
    "                so_mien +=1  \n",
    "implement(data,output)"
   ]
  },
  {
   "cell_type": "code",
   "execution_count": 113,
   "metadata": {},
   "outputs": [
    {
     "data": {
      "text/plain": [
       "[[1, 1, 2, 2, 2, 3],\n",
       " [1, 2, 2, 2, 2, 2],\n",
       " [1, 2, 2, 4, 4, 2],\n",
       " [1, 2, 2, 4, 4, 2],\n",
       " [5, 6, 6, 7, 7, 8],\n",
       " [5, 5, 6, 7, 8, 8]]"
      ]
     },
     "execution_count": 113,
     "metadata": {},
     "output_type": "execute_result"
    }
   ],
   "source": [
    "output"
   ]
  },
  {
   "cell_type": "markdown",
   "metadata": {},
   "source": [
    "###  Cyclic Hanoi Tower problem. "
   ]
  },
  {
   "cell_type": "code",
   "execution_count": 98,
   "metadata": {},
   "outputs": [
    {
     "name": "stdout",
     "output_type": "stream",
     "text": [
      "3\n",
      "\t A -> B \t\n",
      "\t A -> B \t\n",
      "\t B -> C \t\n",
      "\t B -> C \t\n",
      "\t A -> B \t\n",
      "\t C -> A \t\n",
      "\t B -> A \t\n",
      "\t A -> C \t\n",
      "\t A -> B \t\n"
     ]
    }
   ],
   "source": [
    "def printf(c1, c2, c3,  i): \n",
    "    stage = i[c2] - i[c1]\n",
    "    if stage > 0:\n",
    "        if stage == 1: \n",
    "            print(\"\\t {} -> {} \\t\".format(c1,c2))\n",
    "        if stage == 2: \n",
    "            print(\"\\t {} -> {} \\t\".format(c1,c3))\n",
    "            print(\"\\t {} -> {} \\t\".format(c3,c2))\n",
    "    else: \n",
    "        if stage == -1: \n",
    "            print(\"\\t {} -> {} \\t\".format(c2,c3))\n",
    "            print(\"\\t {} -> {} \\t\".format(c3,c1))\n",
    "        if stage == -2: \n",
    "            print(\"\\t {} -> {} \\t\".format(c1,c2))\n",
    "#     if stage > 0:\n",
    "#         if stage == 1: \n",
    "#             print( \"\\t {} -> {} \\t\".format(c1,c2))\n",
    "#         else: \n",
    "#             print( \"\\t {} -> {} \\t\".format(c1,c3))\n",
    "#             print( \"\\t {} -> {} \\t\".format(c3,c2))\n",
    "#     else: \n",
    "#         if stage == -1:\n",
    "#             print(\" \\t {} -> {} \\t\".format(c1,c3))\n",
    "#             print(\" \\t {} -> {} \\t\".format(c3,c2))\n",
    "#         if stage == -2:\n",
    "#             print(\" \\t {} -> {} \\t\".format(c1,c2))\n",
    "\n",
    "def cyclic_hanoi_tower(n , c1, c2, c3, i): \n",
    "    if n == 1:\n",
    "        printf(c1,c2,c3,i)\n",
    "    elif n > 1: \n",
    "        cyclic_hanoi_tower(n-1, c1,c3,c2, i)\n",
    "#         cyclic_hanoi_tower(n-1, c2,c3,c1, i, disc)\n",
    "        cyclic_hanoi_tower(1,c1,c2,c3, i)\n",
    "        cyclic_hanoi_tower(n-1,c3,c2,c1, i)\n",
    "#         cyclic_hanoi_tower(n-1,c1,c2,c3, i, disc)\n",
    "        \n",
    "\n",
    "n = int(input())\n",
    "\n",
    "c1,c2,c3 = 'A','B','C'\n",
    "i = {c1:1, c2:2, c3:3}\n",
    "disc = ['nan','disc1','disc2','disc3']\n",
    "\n",
    "cyclic_hanoi_tower(n, c1, c2, c3, i)\n",
    "\n",
    "# A là nguồi, B là đích, C là trung gian "
   ]
  },
  {
   "cell_type": "markdown",
   "metadata": {},
   "source": [
    "### BACKTRACKING"
   ]
  },
  {
   "cell_type": "code",
   "execution_count": null,
   "metadata": {},
   "outputs": [],
   "source": []
  },
  {
   "cell_type": "code",
   "execution_count": null,
   "metadata": {},
   "outputs": [],
   "source": []
  },
  {
   "cell_type": "code",
   "execution_count": null,
   "metadata": {},
   "outputs": [],
   "source": []
  }
 ],
 "metadata": {
  "kernelspec": {
   "display_name": "Python 3",
   "language": "python",
   "name": "python3"
  },
  "language_info": {
   "codemirror_mode": {
    "name": "ipython",
    "version": 3
   },
   "file_extension": ".py",
   "mimetype": "text/x-python",
   "name": "python",
   "nbconvert_exporter": "python",
   "pygments_lexer": "ipython3",
   "version": "3.8.3"
  }
 },
 "nbformat": 4,
 "nbformat_minor": 4
}
